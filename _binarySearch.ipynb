{
 "cells": [
  {
   "cell_type": "code",
   "execution_count": 6,
   "id": "6fcd67d5",
   "metadata": {},
   "outputs": [],
   "source": [
    "import random # Importing"
   ]
  },
  {
   "cell_type": "code",
   "execution_count": 7,
   "id": "dd361d5d",
   "metadata": {},
   "outputs": [],
   "source": [
    "# Create an empty list to store numbers.\n",
    "numbers = []\n",
    "\n",
    "# Loop through numbers from 0 to 50.\n",
    "for i in range(0, 51):\n",
    "    # Generate a random number between 0 and 100.\n",
    "    num = random.randint(0, 100)\n",
    "    \n",
    "    # Add the generated number to the list.\n",
    "    numbers.append(num)"
   ]
  },
  {
   "cell_type": "code",
   "execution_count": 8,
   "id": "36c857ca",
   "metadata": {},
   "outputs": [],
   "source": [
    "# Sort the list\n",
    "numbers.sort()"
   ]
  },
  {
   "cell_type": "code",
   "execution_count": 14,
   "id": "be5699a4",
   "metadata": {},
   "outputs": [],
   "source": [
    "# Define a function for binary search.\n",
    "def binary_search(numbers, target):\n",
    "    # Initialize variables for the low and high indices of the search range.\n",
    "    low = 0\n",
    "    high = len(numbers) - 1\n",
    "    \n",
    "    # Perform the binary search loop.\n",
    "    while low <= high:\n",
    "        # Calculate the middle index.\n",
    "        mid = (low + high) // 2\n",
    "        \n",
    "        # Check if the middle element is equal to the target.\n",
    "        if numbers[mid] == target:\n",
    "            return mid\n",
    "        # If the middle element is smaller than the target, update the lower bound.\n",
    "        elif numbers[mid] < target:\n",
    "            low = mid + 1\n",
    "        # If the middle element is larger than the target, update the upper bound.\n",
    "        else:\n",
    "            high = mid - 1\n",
    "    \n",
    "    # Return False if the target was not found.\n",
    "    return False\n"
   ]
  },
  {
   "cell_type": "code",
   "execution_count": 16,
   "id": "4d1ee42e",
   "metadata": {},
   "outputs": [
    {
     "name": "stdout",
     "output_type": "stream",
     "text": [
      "Number found in the list at 8th position\n"
     ]
    }
   ],
   "source": [
    "## driver code\n",
    "if __name__ == \"__main__\":\n",
    "    target = int(input(\"Enter a number to search: \"))\n",
    "    result = binary_search(numbers, target)\n",
    "\n",
    "    if result:\n",
    "        print(f\"Number found in the list at {result}th position\")\n",
    "    else:\n",
    "        print(\"Number not found in the list.\")\n"
   ]
  }
 ],
 "metadata": {
  "kernelspec": {
   "display_name": "Python 3 (ipykernel)",
   "language": "python",
   "name": "python3"
  },
  "language_info": {
   "codemirror_mode": {
    "name": "ipython",
    "version": 3
   },
   "file_extension": ".py",
   "mimetype": "text/x-python",
   "name": "python",
   "nbconvert_exporter": "python",
   "pygments_lexer": "ipython3",
   "version": "3.11.4"
  }
 },
 "nbformat": 4,
 "nbformat_minor": 5
}
